{
 "cells": [
  {
   "cell_type": "code",
   "execution_count": 2,
   "metadata": {},
   "outputs": [],
   "source": [
    "#import \n",
    "from tvDatafeed import TvDatafeed, Interval\n",
    "\n",
    "import pandas as pd\n",
    "import numpy as np"
   ]
  },
  {
   "cell_type": "code",
   "execution_count": 3,
   "metadata": {},
   "outputs": [],
   "source": [
    "#I sure love an automatic scrapper <3\n",
    "#Get login\n",
    "username = 'rheyhantensor'\n",
    "password = '$Acong091283'\n",
    "tv = TvDatafeed(username, password)"
   ]
  },
  {
   "cell_type": "code",
   "execution_count": 5,
   "metadata": {},
   "outputs": [
    {
     "data": {
      "text/plain": [
       "[{'symbol': 'BBRI',\n",
       "  'description': 'BANK RAKYAT INDONESIA',\n",
       "  'type': 'stock',\n",
       "  'exchange': 'IDX',\n",
       "  'currency_code': 'IDR',\n",
       "  'logoid': 'bank-rakyat-indonesia',\n",
       "  'provider_id': 'ice',\n",
       "  'country': 'ID',\n",
       "  'is_primary_listing': True,\n",
       "  'typespecs': ['common']},\n",
       " {'symbol': 'BBRIDRCK4A',\n",
       "  'description': 'BBRIDRCK4A',\n",
       "  'type': 'warrant',\n",
       "  'exchange': 'IDX',\n",
       "  'currency_code': 'IDR',\n",
       "  'provider_id': 'ice',\n",
       "  'country': 'ID'},\n",
       " {'symbol': 'BBRIDRCH4A',\n",
       "  'description': 'BBRIDRCH4A',\n",
       "  'type': 'warrant',\n",
       "  'exchange': 'IDX',\n",
       "  'currency_code': 'IDR',\n",
       "  'provider_id': 'ice',\n",
       "  'country': 'ID'},\n",
       " {'symbol': 'BBRIZPCX3A',\n",
       "  'description': 'BBRIZPCX3A',\n",
       "  'type': 'warrant',\n",
       "  'exchange': 'IDX',\n",
       "  'currency_code': 'IDR',\n",
       "  'provider_id': 'ice',\n",
       "  'country': 'ID'},\n",
       " {'symbol': 'BBRIZPCG4A',\n",
       "  'description': 'BBRIZPCG4A',\n",
       "  'type': 'warrant',\n",
       "  'exchange': 'IDX',\n",
       "  'currency_code': 'IDR',\n",
       "  'provider_id': 'ice',\n",
       "  'country': 'ID'},\n",
       " {'symbol': 'BBRIZPCM4A',\n",
       "  'description': 'BBRIZPCM4A',\n",
       "  'type': 'warrant',\n",
       "  'exchange': 'IDX',\n",
       "  'currency_code': 'IDR',\n",
       "  'provider_id': 'ice',\n",
       "  'country': 'ID'}]"
      ]
     },
     "execution_count": 5,
     "metadata": {},
     "output_type": "execute_result"
    }
   ],
   "source": [
    "#Search for idx: BBRI\n",
    "tv.search_symbol('BBRI','IDX')"
   ]
  },
  {
   "cell_type": "code",
   "execution_count": 7,
   "metadata": {},
   "outputs": [],
   "source": [
    "#We gonna gonna train the data with 12 months prior, w/ daily intercal\n",
    "requireddays=12*30"
   ]
  },
  {
   "cell_type": "code",
   "execution_count": 24,
   "metadata": {},
   "outputs": [],
   "source": [
    "#Get data open only\n",
    "Thedata = tv.get_hist(symbol='BBRI',exchange='IDX',interval=Interval.in_daily,n_bars=requireddays).iloc[:,1]"
   ]
  },
  {
   "cell_type": "code",
   "execution_count": 26,
   "metadata": {},
   "outputs": [
    {
     "data": {
      "text/plain": [
       "0"
      ]
     },
     "execution_count": 26,
     "metadata": {},
     "output_type": "execute_result"
    }
   ],
   "source": [
    "#Check for nan\n",
    "Thedata.isna().sum()"
   ]
  },
  {
   "cell_type": "code",
   "execution_count": 29,
   "metadata": {},
   "outputs": [],
   "source": [
    "#save data\n",
    "Thedata.to_csv(\"../Data/BBRI1year.csv\")"
   ]
  }
 ],
 "metadata": {
  "kernelspec": {
   "display_name": "tf",
   "language": "python",
   "name": "python3"
  },
  "language_info": {
   "codemirror_mode": {
    "name": "ipython",
    "version": 3
   },
   "file_extension": ".py",
   "mimetype": "text/x-python",
   "name": "python",
   "nbconvert_exporter": "python",
   "pygments_lexer": "ipython3",
   "version": "3.9.18"
  }
 },
 "nbformat": 4,
 "nbformat_minor": 2
}
